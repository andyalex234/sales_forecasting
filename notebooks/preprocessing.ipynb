{
 "cells": [
  {
   "cell_type": "code",
   "execution_count": 97,
   "metadata": {},
   "outputs": [],
   "source": [
    "import os\n",
    "import sys\n",
    "import warnings\n",
    "warnings.filterwarnings(\"ignore\")\n",
    "import numpy as np\n",
    "import pandas as pd\n",
    "import matplotlib.pyplot as plt\n",
    "from datetime import datetime\n",
    "#local imports\n",
    "\n",
    "sys.path.append(os.path.abspath(os.path.join('..')))\n",
    "from src.data.manipulate import Manipulate\n"
   ]
  },
  {
   "cell_type": "code",
   "execution_count": 47,
   "metadata": {},
   "outputs": [],
   "source": [
    "#read file\n",
    "train_df = pd.read_csv('../data/raw/train.csv', dtype={'StateHoliday': object})\n",
    "test_df = pd.read_csv('../data/raw/test.csv')\n",
    "store_df = pd.read_csv('../data/raw/store.csv')"
   ]
  },
  {
   "cell_type": "code",
   "execution_count": 48,
   "metadata": {},
   "outputs": [],
   "source": [
    "train_df = pd.merge(train_df, store_df, how= 'left', on='Store')\n",
    "test_df = pd.merge(test_df, store_df, how= 'left', on='Store')"
   ]
  },
  {
   "cell_type": "code",
   "execution_count": 49,
   "metadata": {},
   "outputs": [],
   "source": [
    "#convert the tabular data to a time series data\n",
    "ID = test_df['Id']\n",
    "test_df.drop('Id', inplace=True, axis=1)\n",
    "train_df.sort_values(['Store', 'Date'], ignore_index=True, inplace=True)\n",
    "test_df.sort_values(['Store', 'Date'], ignore_index=True, inplace=True)\n",
    "\n",
    "for dataset in (train_df, test_df):\n",
    "    dataset['Date'] = pd.to_datetime(dataset['Date'])\n",
    "    dataset['Day'] = dataset.Date.dt.day\n",
    "    dataset['Month'] = dataset.Date.dt.month\n",
    "    dataset['Year'] = dataset.Date.dt.year\n",
    "    dataset['DayOfYear'] = dataset.Date.dt.dayofyear\n",
    "    dataset['WeekOfYear'] = dataset.Date.dt.weekofyear\n",
    "    dataset.set_index('Date', inplace=True)"
   ]
  },
  {
   "cell_type": "code",
   "execution_count": 50,
   "metadata": {},
   "outputs": [
    {
     "data": {
      "text/html": [
       "<div>\n",
       "<style scoped>\n",
       "    .dataframe tbody tr th:only-of-type {\n",
       "        vertical-align: middle;\n",
       "    }\n",
       "\n",
       "    .dataframe tbody tr th {\n",
       "        vertical-align: top;\n",
       "    }\n",
       "\n",
       "    .dataframe thead th {\n",
       "        text-align: right;\n",
       "    }\n",
       "</style>\n",
       "<table border=\"1\" class=\"dataframe\">\n",
       "  <thead>\n",
       "    <tr style=\"text-align: right;\">\n",
       "      <th></th>\n",
       "      <th>Store</th>\n",
       "      <th>DayOfWeek</th>\n",
       "      <th>Open</th>\n",
       "      <th>Promo</th>\n",
       "      <th>StateHoliday</th>\n",
       "      <th>SchoolHoliday</th>\n",
       "      <th>StoreType</th>\n",
       "      <th>Assortment</th>\n",
       "      <th>CompetitionDistance</th>\n",
       "      <th>CompetitionOpenSinceMonth</th>\n",
       "      <th>CompetitionOpenSinceYear</th>\n",
       "      <th>Promo2</th>\n",
       "      <th>Promo2SinceWeek</th>\n",
       "      <th>Promo2SinceYear</th>\n",
       "      <th>PromoInterval</th>\n",
       "      <th>Day</th>\n",
       "      <th>Month</th>\n",
       "      <th>Year</th>\n",
       "      <th>DayOfYear</th>\n",
       "      <th>WeekOfYear</th>\n",
       "    </tr>\n",
       "    <tr>\n",
       "      <th>Date</th>\n",
       "      <th></th>\n",
       "      <th></th>\n",
       "      <th></th>\n",
       "      <th></th>\n",
       "      <th></th>\n",
       "      <th></th>\n",
       "      <th></th>\n",
       "      <th></th>\n",
       "      <th></th>\n",
       "      <th></th>\n",
       "      <th></th>\n",
       "      <th></th>\n",
       "      <th></th>\n",
       "      <th></th>\n",
       "      <th></th>\n",
       "      <th></th>\n",
       "      <th></th>\n",
       "      <th></th>\n",
       "      <th></th>\n",
       "      <th></th>\n",
       "    </tr>\n",
       "  </thead>\n",
       "  <tbody>\n",
       "    <tr>\n",
       "      <th>2015-09-13</th>\n",
       "      <td>1115</td>\n",
       "      <td>7</td>\n",
       "      <td>0.0</td>\n",
       "      <td>0</td>\n",
       "      <td>0</td>\n",
       "      <td>0</td>\n",
       "      <td>d</td>\n",
       "      <td>c</td>\n",
       "      <td>5350.0</td>\n",
       "      <td>NaN</td>\n",
       "      <td>NaN</td>\n",
       "      <td>1</td>\n",
       "      <td>22.0</td>\n",
       "      <td>2012.0</td>\n",
       "      <td>Mar,Jun,Sept,Dec</td>\n",
       "      <td>13</td>\n",
       "      <td>9</td>\n",
       "      <td>2015</td>\n",
       "      <td>256</td>\n",
       "      <td>37</td>\n",
       "    </tr>\n",
       "    <tr>\n",
       "      <th>2015-09-14</th>\n",
       "      <td>1115</td>\n",
       "      <td>1</td>\n",
       "      <td>1.0</td>\n",
       "      <td>1</td>\n",
       "      <td>0</td>\n",
       "      <td>0</td>\n",
       "      <td>d</td>\n",
       "      <td>c</td>\n",
       "      <td>5350.0</td>\n",
       "      <td>NaN</td>\n",
       "      <td>NaN</td>\n",
       "      <td>1</td>\n",
       "      <td>22.0</td>\n",
       "      <td>2012.0</td>\n",
       "      <td>Mar,Jun,Sept,Dec</td>\n",
       "      <td>14</td>\n",
       "      <td>9</td>\n",
       "      <td>2015</td>\n",
       "      <td>257</td>\n",
       "      <td>38</td>\n",
       "    </tr>\n",
       "    <tr>\n",
       "      <th>2015-09-15</th>\n",
       "      <td>1115</td>\n",
       "      <td>2</td>\n",
       "      <td>1.0</td>\n",
       "      <td>1</td>\n",
       "      <td>0</td>\n",
       "      <td>0</td>\n",
       "      <td>d</td>\n",
       "      <td>c</td>\n",
       "      <td>5350.0</td>\n",
       "      <td>NaN</td>\n",
       "      <td>NaN</td>\n",
       "      <td>1</td>\n",
       "      <td>22.0</td>\n",
       "      <td>2012.0</td>\n",
       "      <td>Mar,Jun,Sept,Dec</td>\n",
       "      <td>15</td>\n",
       "      <td>9</td>\n",
       "      <td>2015</td>\n",
       "      <td>258</td>\n",
       "      <td>38</td>\n",
       "    </tr>\n",
       "    <tr>\n",
       "      <th>2015-09-16</th>\n",
       "      <td>1115</td>\n",
       "      <td>3</td>\n",
       "      <td>1.0</td>\n",
       "      <td>1</td>\n",
       "      <td>0</td>\n",
       "      <td>0</td>\n",
       "      <td>d</td>\n",
       "      <td>c</td>\n",
       "      <td>5350.0</td>\n",
       "      <td>NaN</td>\n",
       "      <td>NaN</td>\n",
       "      <td>1</td>\n",
       "      <td>22.0</td>\n",
       "      <td>2012.0</td>\n",
       "      <td>Mar,Jun,Sept,Dec</td>\n",
       "      <td>16</td>\n",
       "      <td>9</td>\n",
       "      <td>2015</td>\n",
       "      <td>259</td>\n",
       "      <td>38</td>\n",
       "    </tr>\n",
       "    <tr>\n",
       "      <th>2015-09-17</th>\n",
       "      <td>1115</td>\n",
       "      <td>4</td>\n",
       "      <td>1.0</td>\n",
       "      <td>1</td>\n",
       "      <td>0</td>\n",
       "      <td>0</td>\n",
       "      <td>d</td>\n",
       "      <td>c</td>\n",
       "      <td>5350.0</td>\n",
       "      <td>NaN</td>\n",
       "      <td>NaN</td>\n",
       "      <td>1</td>\n",
       "      <td>22.0</td>\n",
       "      <td>2012.0</td>\n",
       "      <td>Mar,Jun,Sept,Dec</td>\n",
       "      <td>17</td>\n",
       "      <td>9</td>\n",
       "      <td>2015</td>\n",
       "      <td>260</td>\n",
       "      <td>38</td>\n",
       "    </tr>\n",
       "  </tbody>\n",
       "</table>\n",
       "</div>"
      ],
      "text/plain": [
       "            Store  DayOfWeek  Open  Promo StateHoliday  SchoolHoliday  \\\n",
       "Date                                                                    \n",
       "2015-09-13   1115          7   0.0      0            0              0   \n",
       "2015-09-14   1115          1   1.0      1            0              0   \n",
       "2015-09-15   1115          2   1.0      1            0              0   \n",
       "2015-09-16   1115          3   1.0      1            0              0   \n",
       "2015-09-17   1115          4   1.0      1            0              0   \n",
       "\n",
       "           StoreType Assortment  CompetitionDistance  \\\n",
       "Date                                                   \n",
       "2015-09-13         d          c               5350.0   \n",
       "2015-09-14         d          c               5350.0   \n",
       "2015-09-15         d          c               5350.0   \n",
       "2015-09-16         d          c               5350.0   \n",
       "2015-09-17         d          c               5350.0   \n",
       "\n",
       "            CompetitionOpenSinceMonth  CompetitionOpenSinceYear  Promo2  \\\n",
       "Date                                                                      \n",
       "2015-09-13                        NaN                       NaN       1   \n",
       "2015-09-14                        NaN                       NaN       1   \n",
       "2015-09-15                        NaN                       NaN       1   \n",
       "2015-09-16                        NaN                       NaN       1   \n",
       "2015-09-17                        NaN                       NaN       1   \n",
       "\n",
       "            Promo2SinceWeek  Promo2SinceYear     PromoInterval  Day  Month  \\\n",
       "Date                                                                         \n",
       "2015-09-13             22.0           2012.0  Mar,Jun,Sept,Dec   13      9   \n",
       "2015-09-14             22.0           2012.0  Mar,Jun,Sept,Dec   14      9   \n",
       "2015-09-15             22.0           2012.0  Mar,Jun,Sept,Dec   15      9   \n",
       "2015-09-16             22.0           2012.0  Mar,Jun,Sept,Dec   16      9   \n",
       "2015-09-17             22.0           2012.0  Mar,Jun,Sept,Dec   17      9   \n",
       "\n",
       "            Year  DayOfYear  WeekOfYear  \n",
       "Date                                     \n",
       "2015-09-13  2015        256          37  \n",
       "2015-09-14  2015        257          38  \n",
       "2015-09-15  2015        258          38  \n",
       "2015-09-16  2015        259          38  \n",
       "2015-09-17  2015        260          38  "
      ]
     },
     "execution_count": 50,
     "metadata": {},
     "output_type": "execute_result"
    }
   ],
   "source": [
    "test_df.tail()"
   ]
  },
  {
   "cell_type": "code",
   "execution_count": 98,
   "metadata": {},
   "outputs": [],
   "source": [
    "manipulate = Manipulate(train_df)\n",
    "# Fill missing numeric values\n",
    "manipulate.fill_columns_with_max(train_df.select_dtypes(exclude=['object']).columns.tolist())\n",
    "# Fill non-numeric values (categorical values)\n",
    "manipulate.fill_columns_with_most_frequent(train_df.select_dtypes(include=['object']).columns.tolist())\n"
   ]
  },
  {
   "cell_type": "code",
   "execution_count": 100,
   "metadata": {},
   "outputs": [
    {
     "data": {
      "text/plain": [
       "Store                        False\n",
       "DayOfWeek                    False\n",
       "Weekend                      False\n",
       "WeekDay                      False\n",
       "Sales                        False\n",
       "Customers                    False\n",
       "Open                         False\n",
       "Promo                        False\n",
       "StateHoliday                 False\n",
       "SchoolHoliday                False\n",
       "StoreType                    False\n",
       "Assortment                   False\n",
       "CompetitionDistance          False\n",
       "CompetitionOpenSinceMonth    False\n",
       "CompetitionOpenSinceYear     False\n",
       "Promo2                       False\n",
       "Promo2SinceWeek              False\n",
       "Promo2SinceYear              False\n",
       "PromoInterval                False\n",
       "Day                          False\n",
       "Month                        False\n",
       "Year                         False\n",
       "DayOfYear                    False\n",
       "WeekOfYear                   False\n",
       "dtype: bool"
      ]
     },
     "execution_count": 100,
     "metadata": {},
     "output_type": "execute_result"
    }
   ],
   "source": [
    "manipulate.df.isna().any()"
   ]
  },
  {
   "cell_type": "markdown",
   "metadata": {},
   "source": [
    "### Extract the following from the datetime column"
   ]
  },
  {
   "cell_type": "markdown",
   "metadata": {},
   "source": [
    "1. **Weekdays**"
   ]
  },
  {
   "cell_type": "code",
   "execution_count": 51,
   "metadata": {},
   "outputs": [],
   "source": [
    "#set the weekday 1 for DayOfWeek b/n 1 and 5 and 0 for 6 and 7\n",
    "day_of_week_index = train_df.columns.get_loc('DayOfWeek')\n",
    "train_df.insert(day_of_week_index + 1, 'WeekDay', train_df['DayOfWeek'].apply(lambda x: 1 if x <= 5 else 0) )\n"
   ]
  },
  {
   "cell_type": "markdown",
   "metadata": {},
   "source": [
    "2. **Weekends**"
   ]
  },
  {
   "cell_type": "code",
   "execution_count": 64,
   "metadata": {},
   "outputs": [
    {
     "data": {
      "text/plain": [
       "1"
      ]
     },
     "execution_count": 64,
     "metadata": {},
     "output_type": "execute_result"
    }
   ],
   "source": [
    "#set the weekend 1 for DayOfWeek equals 6 & 7 and 0 for the rest\n",
    "day_of_week_index = train_df.columns.get_loc('DayOfWeek')\n",
    "train_df.insert(day_of_week_index + 1, 'Weekend' ,train_df['DayOfWeek'].apply(lambda x : 0 if x <= 5 else 1))\n",
    "train_df.head(100)"
   ]
  },
  {
   "cell_type": "markdown",
   "metadata": {},
   "source": [
    "3. **Number of days to holidays**"
   ]
  },
  {
   "cell_type": "code",
   "execution_count": 101,
   "metadata": {},
   "outputs": [
    {
     "name": "stderr",
     "output_type": "stream",
     "text": [
      "Data Manipulatior:INFO->Successfully Added DaysToHoliday Column\n"
     ]
    }
   ],
   "source": [
    "manipulate.add_number_of_days_to_holiday('StateHoliday')"
   ]
  },
  {
   "cell_type": "markdown",
   "metadata": {},
   "source": [
    "4. **Number of days after holidays**"
   ]
  },
  {
   "cell_type": "code",
   "execution_count": 102,
   "metadata": {},
   "outputs": [
    {
     "name": "stderr",
     "output_type": "stream",
     "text": [
      "Data Manipulatior:INFO->Successfully Added DaysAfterHoliday Column\n"
     ]
    }
   ],
   "source": [
    "manipulate.add_number_of_days_after_holiday('StateHoliday')"
   ]
  },
  {
   "cell_type": "markdown",
   "metadata": {},
   "source": [
    "5. **Beginning of month, mid month, and ending of month**"
   ]
  },
  {
   "cell_type": "code",
   "execution_count": 103,
   "metadata": {},
   "outputs": [
    {
     "name": "stderr",
     "output_type": "stream",
     "text": [
      "Data Manipulatior:INFO->Successfully Added MonthTiming Column\n"
     ]
    }
   ],
   "source": [
    "manipulate.add_month_timing('Day')"
   ]
  },
  {
   "cell_type": "code",
   "execution_count": 105,
   "metadata": {},
   "outputs": [
    {
     "name": "stdout",
     "output_type": "stream",
     "text": [
      "<class 'pandas.core.frame.DataFrame'>\n",
      "DatetimeIndex: 1017209 entries, 2013-01-01 to 2015-07-31\n",
      "Data columns (total 27 columns):\n",
      " #   Column                     Non-Null Count    Dtype  \n",
      "---  ------                     --------------    -----  \n",
      " 0   Store                      1017209 non-null  int64  \n",
      " 1   DayOfWeek                  1017209 non-null  int64  \n",
      " 2   Weekend                    1017209 non-null  int64  \n",
      " 3   WeekDay                    1017209 non-null  int64  \n",
      " 4   Sales                      1017209 non-null  int64  \n",
      " 5   Customers                  1017209 non-null  int64  \n",
      " 6   Open                       1017209 non-null  int64  \n",
      " 7   Promo                      1017209 non-null  int64  \n",
      " 8   StateHoliday               1017209 non-null  object \n",
      " 9   DaysAfterHoliday           1017209 non-null  int64  \n",
      " 10  DaysToHoliday              1017209 non-null  int64  \n",
      " 11  SchoolHoliday              1017209 non-null  int64  \n",
      " 12  StoreType                  1017209 non-null  object \n",
      " 13  Assortment                 1017209 non-null  object \n",
      " 14  CompetitionDistance        1017209 non-null  float64\n",
      " 15  CompetitionOpenSinceMonth  1017209 non-null  float64\n",
      " 16  CompetitionOpenSinceYear   1017209 non-null  float64\n",
      " 17  Promo2                     1017209 non-null  int64  \n",
      " 18  Promo2SinceWeek            1017209 non-null  float64\n",
      " 19  Promo2SinceYear            1017209 non-null  float64\n",
      " 20  PromoInterval              1017209 non-null  object \n",
      " 21  Day                        1017209 non-null  int64  \n",
      " 22  MonthTiming                1017209 non-null  int64  \n",
      " 23  Month                      1017209 non-null  int64  \n",
      " 24  Year                       1017209 non-null  int64  \n",
      " 25  DayOfYear                  1017209 non-null  int64  \n",
      " 26  WeekOfYear                 1017209 non-null  int64  \n",
      "dtypes: float64(5), int64(18), object(4)\n",
      "memory usage: 217.3+ MB\n"
     ]
    }
   ],
   "source": [
    "train_df.info()"
   ]
  },
  {
   "cell_type": "markdown",
   "metadata": {},
   "source": [
    "### Drop Unimportant columns "
   ]
  },
  {
   "cell_type": "code",
   "execution_count": 108,
   "metadata": {},
   "outputs": [],
   "source": [
    "train_df.drop(['Store','Customers'],axis=1,inplace=True)"
   ]
  },
  {
   "cell_type": "code",
   "execution_count": 109,
   "metadata": {},
   "outputs": [],
   "source": [
    "train_df.to_csv('../data/processed/unlabeled_train_data.csv')"
   ]
  },
  {
   "cell_type": "markdown",
   "metadata": {},
   "source": [
    "### Encode Categorical Columns"
   ]
  },
  {
   "cell_type": "code",
   "execution_count": 112,
   "metadata": {},
   "outputs": [
    {
     "name": "stdout",
     "output_type": "stream",
     "text": [
      "Failed to Label Encode columns\n"
     ]
    }
   ],
   "source": [
    "# Label Object type data columns (StoreType,Assortment,StateHoliday,Season)\n",
    "\n",
    "manipulate.label_columns(['Season', 'StateHoliday', 'StoreType', 'Assortment'])\n"
   ]
  },
  {
   "cell_type": "code",
   "execution_count": 113,
   "metadata": {},
   "outputs": [
    {
     "data": {
      "text/plain": [
       "Jan,Apr,Jul,Oct     801153\n",
       "Feb,May,Aug,Nov     118596\n",
       "Mar,Jun,Sept,Dec     97460\n",
       "Name: PromoInterval, dtype: int64"
      ]
     },
     "execution_count": 113,
     "metadata": {},
     "output_type": "execute_result"
    }
   ],
   "source": [
    "train_df['PromoInterval'].value_counts()"
   ]
  },
  {
   "cell_type": "code",
   "execution_count": 114,
   "metadata": {},
   "outputs": [
    {
     "data": {
      "text/plain": [
       "{'PromoInterval': LabelEncoder()}"
      ]
     },
     "execution_count": 114,
     "metadata": {},
     "output_type": "execute_result"
    }
   ],
   "source": [
    "manipulate.label_columns(['PromoInterval'])"
   ]
  },
  {
   "cell_type": "code",
   "execution_count": 115,
   "metadata": {},
   "outputs": [
    {
     "name": "stdout",
     "output_type": "stream",
     "text": [
      "<class 'pandas.core.frame.DataFrame'>\n",
      "DatetimeIndex: 1017209 entries, 2013-01-01 to 2015-07-31\n",
      "Data columns (total 25 columns):\n",
      " #   Column                     Non-Null Count    Dtype  \n",
      "---  ------                     --------------    -----  \n",
      " 0   DayOfWeek                  1017209 non-null  int64  \n",
      " 1   Weekend                    1017209 non-null  int64  \n",
      " 2   WeekDay                    1017209 non-null  int64  \n",
      " 3   Sales                      1017209 non-null  int64  \n",
      " 4   Open                       1017209 non-null  int64  \n",
      " 5   Promo                      1017209 non-null  int64  \n",
      " 6   StateHoliday               1017209 non-null  object \n",
      " 7   DaysAfterHoliday           1017209 non-null  int64  \n",
      " 8   DaysToHoliday              1017209 non-null  int64  \n",
      " 9   SchoolHoliday              1017209 non-null  int64  \n",
      " 10  StoreType                  1017209 non-null  object \n",
      " 11  Assortment                 1017209 non-null  object \n",
      " 12  CompetitionDistance        1017209 non-null  float64\n",
      " 13  CompetitionOpenSinceMonth  1017209 non-null  float64\n",
      " 14  CompetitionOpenSinceYear   1017209 non-null  float64\n",
      " 15  Promo2                     1017209 non-null  int64  \n",
      " 16  Promo2SinceWeek            1017209 non-null  float64\n",
      " 17  Promo2SinceYear            1017209 non-null  float64\n",
      " 18  PromoInterval              1017209 non-null  int64  \n",
      " 19  Day                        1017209 non-null  int64  \n",
      " 20  MonthTiming                1017209 non-null  int64  \n",
      " 21  Month                      1017209 non-null  int64  \n",
      " 22  Year                       1017209 non-null  int64  \n",
      " 23  DayOfYear                  1017209 non-null  int64  \n",
      " 24  WeekOfYear                 1017209 non-null  int64  \n",
      "dtypes: float64(5), int64(17), object(3)\n",
      "memory usage: 201.8+ MB\n"
     ]
    }
   ],
   "source": [
    "train_df.info()"
   ]
  },
  {
   "cell_type": "markdown",
   "metadata": {},
   "source": [
    "### Data Scaling"
   ]
  },
  {
   "cell_type": "code",
   "execution_count": 117,
   "metadata": {},
   "outputs": [],
   "source": [
    "def get_min_max_of_dataframe_columns(df):\n",
    "    top = df.max()\n",
    "    top_df = pd.DataFrame(top, columns=['Max Value'])\n",
    "    bottom = df.min()\n",
    "    bottom_df = pd.DataFrame(bottom, columns=['Min Value'])\n",
    "    info_df = pd.concat([top_df, bottom_df], axis=1)\n",
    "    return info_df"
   ]
  },
  {
   "cell_type": "code",
   "execution_count": 118,
   "metadata": {},
   "outputs": [
    {
     "name": "stdout",
     "output_type": "stream",
     "text": [
      "Failed to standardize the column\n",
      "Failed to standardize the column\n",
      "Failed to standardize the column\n",
      "Failed to standardize the column\n",
      "Failed to standardize the column\n",
      "Failed to standardize the column\n",
      "Failed to standardize the column\n",
      "Failed to standardize the column\n",
      "Failed to standardize the column\n",
      "Failed to standardize the column\n",
      "Failed to standardize the column\n",
      "Failed to standardize the column\n",
      "Failed to standardize the column\n",
      "Failed to standardize the column\n",
      "Failed to standardize the column\n",
      "Failed to standardize the column\n",
      "Failed to standardize the column\n",
      "Failed to standardize the column\n",
      "Failed to standardize the column\n"
     ]
    },
    {
     "data": {
      "text/html": [
       "<div>\n",
       "<style scoped>\n",
       "    .dataframe tbody tr th:only-of-type {\n",
       "        vertical-align: middle;\n",
       "    }\n",
       "\n",
       "    .dataframe tbody tr th {\n",
       "        vertical-align: top;\n",
       "    }\n",
       "\n",
       "    .dataframe thead th {\n",
       "        text-align: right;\n",
       "    }\n",
       "</style>\n",
       "<table border=\"1\" class=\"dataframe\">\n",
       "  <thead>\n",
       "    <tr style=\"text-align: right;\">\n",
       "      <th></th>\n",
       "      <th>Max Value</th>\n",
       "      <th>Min Value</th>\n",
       "    </tr>\n",
       "  </thead>\n",
       "  <tbody>\n",
       "    <tr>\n",
       "      <th>DayOfWeek</th>\n",
       "      <td>1.502791</td>\n",
       "      <td>-1.501129</td>\n",
       "    </tr>\n",
       "    <tr>\n",
       "      <th>Weekend</th>\n",
       "      <td>1.585611</td>\n",
       "      <td>-0.630672</td>\n",
       "    </tr>\n",
       "    <tr>\n",
       "      <th>WeekDay</th>\n",
       "      <td>0.630672</td>\n",
       "      <td>-1.585611</td>\n",
       "    </tr>\n",
       "    <tr>\n",
       "      <th>Sales</th>\n",
       "      <td>9.292957</td>\n",
       "      <td>-1.499723</td>\n",
       "    </tr>\n",
       "    <tr>\n",
       "      <th>Open</th>\n",
       "      <td>0.452399</td>\n",
       "      <td>-2.21044</td>\n",
       "    </tr>\n",
       "    <tr>\n",
       "      <th>Promo</th>\n",
       "      <td>1.273237</td>\n",
       "      <td>-0.7854</td>\n",
       "    </tr>\n",
       "    <tr>\n",
       "      <th>StateHoliday</th>\n",
       "      <td>c</td>\n",
       "      <td>0</td>\n",
       "    </tr>\n",
       "    <tr>\n",
       "      <th>DaysAfterHoliday</th>\n",
       "      <td>18</td>\n",
       "      <td>0</td>\n",
       "    </tr>\n",
       "    <tr>\n",
       "      <th>DaysToHoliday</th>\n",
       "      <td>135</td>\n",
       "      <td>0</td>\n",
       "    </tr>\n",
       "    <tr>\n",
       "      <th>SchoolHoliday</th>\n",
       "      <td>1</td>\n",
       "      <td>0</td>\n",
       "    </tr>\n",
       "    <tr>\n",
       "      <th>StoreType</th>\n",
       "      <td>d</td>\n",
       "      <td>a</td>\n",
       "    </tr>\n",
       "    <tr>\n",
       "      <th>Assortment</th>\n",
       "      <td>c</td>\n",
       "      <td>a</td>\n",
       "    </tr>\n",
       "    <tr>\n",
       "      <th>CompetitionDistance</th>\n",
       "      <td>75860.0</td>\n",
       "      <td>20.0</td>\n",
       "    </tr>\n",
       "    <tr>\n",
       "      <th>CompetitionOpenSinceMonth</th>\n",
       "      <td>12.0</td>\n",
       "      <td>1.0</td>\n",
       "    </tr>\n",
       "    <tr>\n",
       "      <th>CompetitionOpenSinceYear</th>\n",
       "      <td>2015.0</td>\n",
       "      <td>1900.0</td>\n",
       "    </tr>\n",
       "    <tr>\n",
       "      <th>Promo2</th>\n",
       "      <td>1</td>\n",
       "      <td>0</td>\n",
       "    </tr>\n",
       "    <tr>\n",
       "      <th>Promo2SinceWeek</th>\n",
       "      <td>50.0</td>\n",
       "      <td>1.0</td>\n",
       "    </tr>\n",
       "    <tr>\n",
       "      <th>Promo2SinceYear</th>\n",
       "      <td>2015.0</td>\n",
       "      <td>2009.0</td>\n",
       "    </tr>\n",
       "    <tr>\n",
       "      <th>PromoInterval</th>\n",
       "      <td>2</td>\n",
       "      <td>0</td>\n",
       "    </tr>\n",
       "    <tr>\n",
       "      <th>Day</th>\n",
       "      <td>31</td>\n",
       "      <td>1</td>\n",
       "    </tr>\n",
       "    <tr>\n",
       "      <th>MonthTiming</th>\n",
       "      <td>3</td>\n",
       "      <td>1</td>\n",
       "    </tr>\n",
       "    <tr>\n",
       "      <th>Month</th>\n",
       "      <td>12</td>\n",
       "      <td>1</td>\n",
       "    </tr>\n",
       "    <tr>\n",
       "      <th>Year</th>\n",
       "      <td>2015</td>\n",
       "      <td>2013</td>\n",
       "    </tr>\n",
       "    <tr>\n",
       "      <th>DayOfYear</th>\n",
       "      <td>365</td>\n",
       "      <td>1</td>\n",
       "    </tr>\n",
       "    <tr>\n",
       "      <th>WeekOfYear</th>\n",
       "      <td>52</td>\n",
       "      <td>1</td>\n",
       "    </tr>\n",
       "  </tbody>\n",
       "</table>\n",
       "</div>"
      ],
      "text/plain": [
       "                          Max Value Min Value\n",
       "DayOfWeek                  1.502791 -1.501129\n",
       "Weekend                    1.585611 -0.630672\n",
       "WeekDay                    0.630672 -1.585611\n",
       "Sales                      9.292957 -1.499723\n",
       "Open                       0.452399  -2.21044\n",
       "Promo                      1.273237   -0.7854\n",
       "StateHoliday                      c         0\n",
       "DaysAfterHoliday                 18         0\n",
       "DaysToHoliday                   135         0\n",
       "SchoolHoliday                     1         0\n",
       "StoreType                         d         a\n",
       "Assortment                        c         a\n",
       "CompetitionDistance         75860.0      20.0\n",
       "CompetitionOpenSinceMonth      12.0       1.0\n",
       "CompetitionOpenSinceYear     2015.0    1900.0\n",
       "Promo2                            1         0\n",
       "Promo2SinceWeek                50.0       1.0\n",
       "Promo2SinceYear              2015.0    2009.0\n",
       "PromoInterval                     2         0\n",
       "Day                              31         1\n",
       "MonthTiming                       3         1\n",
       "Month                            12         1\n",
       "Year                           2015      2013\n",
       "DayOfYear                       365         1\n",
       "WeekOfYear                       52         1"
      ]
     },
     "execution_count": 118,
     "metadata": {},
     "output_type": "execute_result"
    }
   ],
   "source": [
    "# Using StandardScaler to standardize the all columns\n",
    "scale_list = train_df.columns.to_list()\n",
    "# Scale\n",
    "manipulate.standardize_columns(scale_list)\n",
    "get_min_max_of_dataframe_columns(train_df)"
   ]
  },
  {
   "cell_type": "markdown",
   "metadata": {},
   "source": [
    "### Save Clean Data"
   ]
  },
  {
   "cell_type": "code",
   "execution_count": 119,
   "metadata": {},
   "outputs": [],
   "source": [
    "train_df.to_csv('../data/processed/train.csv')"
   ]
  }
 ],
 "metadata": {
  "kernelspec": {
   "display_name": "Python 3.9.12 ('env': venv)",
   "language": "python",
   "name": "python3"
  },
  "language_info": {
   "codemirror_mode": {
    "name": "ipython",
    "version": 3
   },
   "file_extension": ".py",
   "mimetype": "text/x-python",
   "name": "python",
   "nbconvert_exporter": "python",
   "pygments_lexer": "ipython3",
   "version": "3.9.12"
  },
  "orig_nbformat": 4,
  "vscode": {
   "interpreter": {
    "hash": "b55984ad5c5219f211f1e312c14b6f6d291c24016cf46ad484e1d4cec1779e5b"
   }
  }
 },
 "nbformat": 4,
 "nbformat_minor": 2
}

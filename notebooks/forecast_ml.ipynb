{
 "cells": [
  {
   "cell_type": "markdown",
   "metadata": {},
   "source": [
    "# Forecast using Machine Learning \n",
    "\n",
    "A reasonable starting point will be to use any of the tree based algorithms. Random forests Regressor will make for a good start. \n",
    "\n",
    "Here we'll also experiment with different algorithms "
   ]
  },
  {
   "cell_type": "code",
   "execution_count": 1,
   "metadata": {},
   "outputs": [],
   "source": [
    "import os\n",
    "import sys\n",
    "import warnings\n",
    "warnings.filterwarnings(\"ignore\")\n",
    "import numpy as np\n",
    "import pandas as pd\n",
    "# import matplotlib.pyplot as plt\n",
    "from datetime import datetime\n",
    "from sklearn.pipeline import Pipeline\n",
    "from sklearn.model_selection import GridSearchCV\n",
    "from sklearn.ensemble import RandomForestRegressor\n",
    "#local imports\n",
    "\n",
    "sys.path.append(os.path.abspath(os.path.join('..')))\n",
    "from src.data.manipulate import Manipulate\n"
   ]
  },
  {
   "cell_type": "code",
   "execution_count": 7,
   "metadata": {},
   "outputs": [],
   "source": [
    "train_df = pd.read_csv('../data/processed/train.csv', index_col='Date')\n",
    "test_df = pd.read_csv('../data/clean/test.csv', index_col='Date')"
   ]
  },
  {
   "cell_type": "code",
   "execution_count": 9,
   "metadata": {},
   "outputs": [
    {
     "data": {
      "text/html": [
       "<div>\n",
       "<style scoped>\n",
       "    .dataframe tbody tr th:only-of-type {\n",
       "        vertical-align: middle;\n",
       "    }\n",
       "\n",
       "    .dataframe tbody tr th {\n",
       "        vertical-align: top;\n",
       "    }\n",
       "\n",
       "    .dataframe thead th {\n",
       "        text-align: right;\n",
       "    }\n",
       "</style>\n",
       "<table border=\"1\" class=\"dataframe\">\n",
       "  <thead>\n",
       "    <tr style=\"text-align: right;\">\n",
       "      <th></th>\n",
       "      <th>DayOfWeek</th>\n",
       "      <th>Weekend</th>\n",
       "      <th>WeekDay</th>\n",
       "      <th>Sales</th>\n",
       "      <th>Open</th>\n",
       "      <th>Promo</th>\n",
       "      <th>StateHoliday</th>\n",
       "      <th>DaysAfterHoliday</th>\n",
       "      <th>DaysToHoliday</th>\n",
       "      <th>SchoolHoliday</th>\n",
       "      <th>...</th>\n",
       "      <th>Promo2</th>\n",
       "      <th>Promo2SinceWeek</th>\n",
       "      <th>Promo2SinceYear</th>\n",
       "      <th>PromoInterval</th>\n",
       "      <th>Day</th>\n",
       "      <th>MonthTiming</th>\n",
       "      <th>Month</th>\n",
       "      <th>Year</th>\n",
       "      <th>DayOfYear</th>\n",
       "      <th>WeekOfYear</th>\n",
       "    </tr>\n",
       "    <tr>\n",
       "      <th>Date</th>\n",
       "      <th></th>\n",
       "      <th></th>\n",
       "      <th></th>\n",
       "      <th></th>\n",
       "      <th></th>\n",
       "      <th></th>\n",
       "      <th></th>\n",
       "      <th></th>\n",
       "      <th></th>\n",
       "      <th></th>\n",
       "      <th></th>\n",
       "      <th></th>\n",
       "      <th></th>\n",
       "      <th></th>\n",
       "      <th></th>\n",
       "      <th></th>\n",
       "      <th></th>\n",
       "      <th></th>\n",
       "      <th></th>\n",
       "      <th></th>\n",
       "      <th></th>\n",
       "    </tr>\n",
       "  </thead>\n",
       "  <tbody>\n",
       "    <tr>\n",
       "      <th>2013-01-01</th>\n",
       "      <td>-1.000476</td>\n",
       "      <td>-0.630672</td>\n",
       "      <td>0.630672</td>\n",
       "      <td>-1.499723</td>\n",
       "      <td>-2.210440</td>\n",
       "      <td>-0.7854</td>\n",
       "      <td>3.366183</td>\n",
       "      <td>-0.377145</td>\n",
       "      <td>-0.968911</td>\n",
       "      <td>2.144211</td>\n",
       "      <td>...</td>\n",
       "      <td>-1.001128</td>\n",
       "      <td>0.802373</td>\n",
       "      <td>0.810673</td>\n",
       "      <td>0.045131</td>\n",
       "      <td>-1.673123</td>\n",
       "      <td>-1.236292</td>\n",
       "      <td>-1.457193</td>\n",
       "      <td>-1.070616</td>\n",
       "      <td>-1.587114</td>\n",
       "      <td>-1.56689</td>\n",
       "    </tr>\n",
       "    <tr>\n",
       "      <th>2013-01-02</th>\n",
       "      <td>-0.499823</td>\n",
       "      <td>-0.630672</td>\n",
       "      <td>0.630672</td>\n",
       "      <td>-0.063331</td>\n",
       "      <td>0.452399</td>\n",
       "      <td>-0.7854</td>\n",
       "      <td>-0.159217</td>\n",
       "      <td>-0.377145</td>\n",
       "      <td>1.133477</td>\n",
       "      <td>2.144211</td>\n",
       "      <td>...</td>\n",
       "      <td>-1.001128</td>\n",
       "      <td>0.802373</td>\n",
       "      <td>0.810673</td>\n",
       "      <td>0.045131</td>\n",
       "      <td>-1.559327</td>\n",
       "      <td>-1.236292</td>\n",
       "      <td>-1.457193</td>\n",
       "      <td>-1.070616</td>\n",
       "      <td>-1.577273</td>\n",
       "      <td>-1.56689</td>\n",
       "    </tr>\n",
       "    <tr>\n",
       "      <th>2013-01-03</th>\n",
       "      <td>0.000831</td>\n",
       "      <td>-0.630672</td>\n",
       "      <td>0.630672</td>\n",
       "      <td>-0.375805</td>\n",
       "      <td>0.452399</td>\n",
       "      <td>-0.7854</td>\n",
       "      <td>-0.159217</td>\n",
       "      <td>-0.023410</td>\n",
       "      <td>1.100627</td>\n",
       "      <td>2.144211</td>\n",
       "      <td>...</td>\n",
       "      <td>-1.001128</td>\n",
       "      <td>0.802373</td>\n",
       "      <td>0.810673</td>\n",
       "      <td>0.045131</td>\n",
       "      <td>-1.445530</td>\n",
       "      <td>-1.236292</td>\n",
       "      <td>-1.457193</td>\n",
       "      <td>-1.070616</td>\n",
       "      <td>-1.567432</td>\n",
       "      <td>-1.56689</td>\n",
       "    </tr>\n",
       "    <tr>\n",
       "      <th>2013-01-04</th>\n",
       "      <td>0.501484</td>\n",
       "      <td>-0.630672</td>\n",
       "      <td>0.630672</td>\n",
       "      <td>-0.334505</td>\n",
       "      <td>0.452399</td>\n",
       "      <td>-0.7854</td>\n",
       "      <td>-0.159217</td>\n",
       "      <td>0.330325</td>\n",
       "      <td>1.067778</td>\n",
       "      <td>2.144211</td>\n",
       "      <td>...</td>\n",
       "      <td>-1.001128</td>\n",
       "      <td>0.802373</td>\n",
       "      <td>0.810673</td>\n",
       "      <td>0.045131</td>\n",
       "      <td>-1.331734</td>\n",
       "      <td>-1.236292</td>\n",
       "      <td>-1.457193</td>\n",
       "      <td>-1.070616</td>\n",
       "      <td>-1.557591</td>\n",
       "      <td>-1.56689</td>\n",
       "    </tr>\n",
       "    <tr>\n",
       "      <th>2013-01-05</th>\n",
       "      <td>1.002138</td>\n",
       "      <td>1.585611</td>\n",
       "      <td>-1.585611</td>\n",
       "      <td>-0.201775</td>\n",
       "      <td>0.452399</td>\n",
       "      <td>-0.7854</td>\n",
       "      <td>-0.159217</td>\n",
       "      <td>0.684060</td>\n",
       "      <td>1.034928</td>\n",
       "      <td>2.144211</td>\n",
       "      <td>...</td>\n",
       "      <td>-1.001128</td>\n",
       "      <td>0.802373</td>\n",
       "      <td>0.810673</td>\n",
       "      <td>0.045131</td>\n",
       "      <td>-1.217938</td>\n",
       "      <td>-1.236292</td>\n",
       "      <td>-1.457193</td>\n",
       "      <td>-1.070616</td>\n",
       "      <td>-1.547750</td>\n",
       "      <td>-1.56689</td>\n",
       "    </tr>\n",
       "  </tbody>\n",
       "</table>\n",
       "<p>5 rows × 25 columns</p>\n",
       "</div>"
      ],
      "text/plain": [
       "            DayOfWeek   Weekend   WeekDay     Sales      Open   Promo  \\\n",
       "Date                                                                    \n",
       "2013-01-01  -1.000476 -0.630672  0.630672 -1.499723 -2.210440 -0.7854   \n",
       "2013-01-02  -0.499823 -0.630672  0.630672 -0.063331  0.452399 -0.7854   \n",
       "2013-01-03   0.000831 -0.630672  0.630672 -0.375805  0.452399 -0.7854   \n",
       "2013-01-04   0.501484 -0.630672  0.630672 -0.334505  0.452399 -0.7854   \n",
       "2013-01-05   1.002138  1.585611 -1.585611 -0.201775  0.452399 -0.7854   \n",
       "\n",
       "            StateHoliday  DaysAfterHoliday  DaysToHoliday  SchoolHoliday  ...  \\\n",
       "Date                                                                      ...   \n",
       "2013-01-01      3.366183         -0.377145      -0.968911       2.144211  ...   \n",
       "2013-01-02     -0.159217         -0.377145       1.133477       2.144211  ...   \n",
       "2013-01-03     -0.159217         -0.023410       1.100627       2.144211  ...   \n",
       "2013-01-04     -0.159217          0.330325       1.067778       2.144211  ...   \n",
       "2013-01-05     -0.159217          0.684060       1.034928       2.144211  ...   \n",
       "\n",
       "              Promo2  Promo2SinceWeek  Promo2SinceYear  PromoInterval  \\\n",
       "Date                                                                    \n",
       "2013-01-01 -1.001128         0.802373         0.810673       0.045131   \n",
       "2013-01-02 -1.001128         0.802373         0.810673       0.045131   \n",
       "2013-01-03 -1.001128         0.802373         0.810673       0.045131   \n",
       "2013-01-04 -1.001128         0.802373         0.810673       0.045131   \n",
       "2013-01-05 -1.001128         0.802373         0.810673       0.045131   \n",
       "\n",
       "                 Day  MonthTiming     Month      Year  DayOfYear  WeekOfYear  \n",
       "Date                                                                          \n",
       "2013-01-01 -1.673123    -1.236292 -1.457193 -1.070616  -1.587114    -1.56689  \n",
       "2013-01-02 -1.559327    -1.236292 -1.457193 -1.070616  -1.577273    -1.56689  \n",
       "2013-01-03 -1.445530    -1.236292 -1.457193 -1.070616  -1.567432    -1.56689  \n",
       "2013-01-04 -1.331734    -1.236292 -1.457193 -1.070616  -1.557591    -1.56689  \n",
       "2013-01-05 -1.217938    -1.236292 -1.457193 -1.070616  -1.547750    -1.56689  \n",
       "\n",
       "[5 rows x 25 columns]"
      ]
     },
     "execution_count": 9,
     "metadata": {},
     "output_type": "execute_result"
    }
   ],
   "source": [
    "train_df.head()"
   ]
  },
  {
   "cell_type": "code",
   "execution_count": 10,
   "metadata": {},
   "outputs": [],
   "source": [
    "X_train = train_df\n",
    "y_train = train_df['Sales']"
   ]
  },
  {
   "cell_type": "code",
   "execution_count": 8,
   "metadata": {},
   "outputs": [],
   "source": [
    "# pipe = Pipeline([\n",
    "#     (\"model\", RandomForestRegressor(n_estimators=100))\n",
    "# ])"
   ]
  },
  {
   "cell_type": "code",
   "execution_count": 11,
   "metadata": {},
   "outputs": [
    {
     "data": {
      "text/html": [
       "<style>#sk-container-id-1 {color: black;background-color: white;}#sk-container-id-1 pre{padding: 0;}#sk-container-id-1 div.sk-toggleable {background-color: white;}#sk-container-id-1 label.sk-toggleable__label {cursor: pointer;display: block;width: 100%;margin-bottom: 0;padding: 0.3em;box-sizing: border-box;text-align: center;}#sk-container-id-1 label.sk-toggleable__label-arrow:before {content: \"▸\";float: left;margin-right: 0.25em;color: #696969;}#sk-container-id-1 label.sk-toggleable__label-arrow:hover:before {color: black;}#sk-container-id-1 div.sk-estimator:hover label.sk-toggleable__label-arrow:before {color: black;}#sk-container-id-1 div.sk-toggleable__content {max-height: 0;max-width: 0;overflow: hidden;text-align: left;background-color: #f0f8ff;}#sk-container-id-1 div.sk-toggleable__content pre {margin: 0.2em;color: black;border-radius: 0.25em;background-color: #f0f8ff;}#sk-container-id-1 input.sk-toggleable__control:checked~div.sk-toggleable__content {max-height: 200px;max-width: 100%;overflow: auto;}#sk-container-id-1 input.sk-toggleable__control:checked~label.sk-toggleable__label-arrow:before {content: \"▾\";}#sk-container-id-1 div.sk-estimator input.sk-toggleable__control:checked~label.sk-toggleable__label {background-color: #d4ebff;}#sk-container-id-1 div.sk-label input.sk-toggleable__control:checked~label.sk-toggleable__label {background-color: #d4ebff;}#sk-container-id-1 input.sk-hidden--visually {border: 0;clip: rect(1px 1px 1px 1px);clip: rect(1px, 1px, 1px, 1px);height: 1px;margin: -1px;overflow: hidden;padding: 0;position: absolute;width: 1px;}#sk-container-id-1 div.sk-estimator {font-family: monospace;background-color: #f0f8ff;border: 1px dotted black;border-radius: 0.25em;box-sizing: border-box;margin-bottom: 0.5em;}#sk-container-id-1 div.sk-estimator:hover {background-color: #d4ebff;}#sk-container-id-1 div.sk-parallel-item::after {content: \"\";width: 100%;border-bottom: 1px solid gray;flex-grow: 1;}#sk-container-id-1 div.sk-label:hover label.sk-toggleable__label {background-color: #d4ebff;}#sk-container-id-1 div.sk-serial::before {content: \"\";position: absolute;border-left: 1px solid gray;box-sizing: border-box;top: 0;bottom: 0;left: 50%;z-index: 0;}#sk-container-id-1 div.sk-serial {display: flex;flex-direction: column;align-items: center;background-color: white;padding-right: 0.2em;padding-left: 0.2em;position: relative;}#sk-container-id-1 div.sk-item {position: relative;z-index: 1;}#sk-container-id-1 div.sk-parallel {display: flex;align-items: stretch;justify-content: center;background-color: white;position: relative;}#sk-container-id-1 div.sk-item::before, #sk-container-id-1 div.sk-parallel-item::before {content: \"\";position: absolute;border-left: 1px solid gray;box-sizing: border-box;top: 0;bottom: 0;left: 50%;z-index: -1;}#sk-container-id-1 div.sk-parallel-item {display: flex;flex-direction: column;z-index: 1;position: relative;background-color: white;}#sk-container-id-1 div.sk-parallel-item:first-child::after {align-self: flex-end;width: 50%;}#sk-container-id-1 div.sk-parallel-item:last-child::after {align-self: flex-start;width: 50%;}#sk-container-id-1 div.sk-parallel-item:only-child::after {width: 0;}#sk-container-id-1 div.sk-dashed-wrapped {border: 1px dashed gray;margin: 0 0.4em 0.5em 0.4em;box-sizing: border-box;padding-bottom: 0.4em;background-color: white;}#sk-container-id-1 div.sk-label label {font-family: monospace;font-weight: bold;display: inline-block;line-height: 1.2em;}#sk-container-id-1 div.sk-label-container {text-align: center;}#sk-container-id-1 div.sk-container {/* jupyter's `normalize.less` sets `[hidden] { display: none; }` but bootstrap.min.css set `[hidden] { display: none !important; }` so we also need the `!important` here to be able to override the default hidden behavior on the sphinx rendered scikit-learn.org. See: https://github.com/scikit-learn/scikit-learn/issues/21755 */display: inline-block !important;position: relative;}#sk-container-id-1 div.sk-text-repr-fallback {display: none;}</style><div id=\"sk-container-id-1\" class=\"sk-top-container\"><div class=\"sk-text-repr-fallback\"><pre>RandomForestRegressor(n_estimators=10, random_state=0)</pre><b>In a Jupyter environment, please rerun this cell to show the HTML representation or trust the notebook. <br />On GitHub, the HTML representation is unable to render, please try loading this page with nbviewer.org.</b></div><div class=\"sk-container\" hidden><div class=\"sk-item\"><div class=\"sk-estimator sk-toggleable\"><input class=\"sk-toggleable__control sk-hidden--visually\" id=\"sk-estimator-id-1\" type=\"checkbox\" checked><label for=\"sk-estimator-id-1\" class=\"sk-toggleable__label sk-toggleable__label-arrow\">RandomForestRegressor</label><div class=\"sk-toggleable__content\"><pre>RandomForestRegressor(n_estimators=10, random_state=0)</pre></div></div></div></div></div>"
      ],
      "text/plain": [
       "RandomForestRegressor(n_estimators=10, random_state=0)"
      ]
     },
     "execution_count": 11,
     "metadata": {},
     "output_type": "execute_result"
    }
   ],
   "source": [
    "# pipe.fit(train_df)\n",
    "regressor = RandomForestRegressor(n_estimators=10, random_state=0)\n",
    "regressor.fit(X_train, y_train)\n"
   ]
  },
  {
   "cell_type": "code",
   "execution_count": 13,
   "metadata": {},
   "outputs": [
    {
     "data": {
      "text/plain": [
       "array([-1.49972273, -0.06333085, -0.37580453, ...,  0.49018653,\n",
       "        0.68343708,  0.75486706])"
      ]
     },
     "execution_count": 13,
     "metadata": {},
     "output_type": "execute_result"
    }
   ],
   "source": [
    "regressor.predict(X_train)"
   ]
  }
 ],
 "metadata": {
  "kernelspec": {
   "display_name": "Python 3.9.12 ('venv': venv)",
   "language": "python",
   "name": "python3"
  },
  "language_info": {
   "codemirror_mode": {
    "name": "ipython",
    "version": 3
   },
   "file_extension": ".py",
   "mimetype": "text/x-python",
   "name": "python",
   "nbconvert_exporter": "python",
   "pygments_lexer": "ipython3",
   "version": "3.9.12"
  },
  "orig_nbformat": 4,
  "vscode": {
   "interpreter": {
    "hash": "b6d4c67dde1e6e258d54980be8367ef04c7273ba25433cc298cc038ec3110219"
   }
  }
 },
 "nbformat": 4,
 "nbformat_minor": 2
}
